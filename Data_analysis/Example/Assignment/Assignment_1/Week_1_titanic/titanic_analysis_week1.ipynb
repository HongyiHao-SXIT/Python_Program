{
 "cells": [
  {
   "cell_type": "code",
   "execution_count": null,
   "id": "837be332",
   "metadata": {},
   "outputs": [],
   "source": [
    "import pandas as pd\n",
    "import numpy as np\n",
    "import matplotlib.pyplot as plt\n",
    "from sklearn.model_selection import train_test_split\n",
    "from sklearn.preprocessing import OneHotEncoder\n",
    "from sklearn.utils import resample\n",
    "from sklearn.neighbors import KNeighborsClassifier\n",
    "from sklearn.metrics import accuracy_score\n",
    "import seaborn as sns\n"
   ]
  },
  {
   "cell_type": "markdown",
   "id": "3bb36b67",
   "metadata": {},
   "source": [
    "## 1. Read and Visualize Data"
   ]
  },
  {
   "cell_type": "code",
   "execution_count": null,
   "id": "7ad4564e",
   "metadata": {},
   "outputs": [],
   "source": [
    "df = pd.read_csv(\"train.csv\")\n",
    "print(\"First 5 rows of data:\")\n",
    "display(df.head())"
   ]
  },
  {
   "cell_type": "markdown",
   "id": "a2a7c0a6",
   "metadata": {},
   "source": [
    "## 2. Handling Missing Data"
   ]
  },
  {
   "cell_type": "code",
   "execution_count": null,
   "id": "78258813",
   "metadata": {},
   "outputs": [],
   "source": [
    "print(\"Missing values count per column:\")\n",
    "print(df.isnull().sum())"
   ]
  },
  {
   "cell_type": "code",
   "execution_count": null,
   "id": "38c9f70c",
   "metadata": {},
   "outputs": [],
   "source": [
    "df_filled = df.fillna(0)\n",
    "print(\"Missing values after filling with 0:\")\n",
    "print(df_filled.isnull().sum())"
   ]
  },
  {
   "cell_type": "markdown",
   "id": "e4b3dc37",
   "metadata": {},
   "source": [
    "## 3. Handling Numerical and Categorical Values"
   ]
  },
  {
   "cell_type": "code",
   "execution_count": null,
   "id": "ec865e1b",
   "metadata": {},
   "outputs": [],
   "source": [
    "numerical_cols = df_filled.select_dtypes(include=[np.number]).columns.tolist()\n",
    "categorical_cols = df_filled.select_dtypes(include=[\"object\"]).columns.tolist()\n",
    "print(\"Numerical columns:\", numerical_cols)\n",
    "print(\"Categorical columns:\", categorical_cols)"
   ]
  },
  {
   "cell_type": "code",
   "execution_count": null,
   "id": "f67e6c85",
   "metadata": {},
   "outputs": [],
   "source": [
    "df_encoded = pd.get_dummies(df_filled, columns=categorical_cols)\n",
    "print(\"First 5 rows after one-hot encoding:\")\n",
    "display(df_encoded.head())"
   ]
  },
  {
   "cell_type": "markdown",
   "id": "9e4029cf",
   "metadata": {},
   "source": [
    "## 4. Dataset Splitting"
   ]
  },
  {
   "cell_type": "code",
   "execution_count": null,
   "id": "6cf656b6",
   "metadata": {},
   "outputs": [],
   "source": [
    "X = df_encoded.drop(\"Survived\", axis=1)\n",
    "y = df_encoded[\"Survived\"]\n",
    "X_train, X_test, y_train, y_test = train_test_split(X, y, test_size=0.2, random_state=42)\n",
    "print(\"X_train shape:\", X_train.shape)\n",
    "print(\"X_test shape:\", X_test.shape)\n",
    "print(\"y_train shape:\", y_train.shape)\n",
    "print(\"y_test shape:\", y_test.shape)"
   ]
  },
  {
   "cell_type": "markdown",
   "id": "7369fb2f",
   "metadata": {},
   "source": [
    "## 5. Addressing Imbalanced Labels"
   ]
  },
  {
   "cell_type": "code",
   "execution_count": null,
   "id": "d8c0029a",
   "metadata": {},
   "outputs": [],
   "source": [
    "print(\"Survival counts in training set:\")\n",
    "print(y_train.value_counts())"
   ]
  },
  {
   "cell_type": "code",
   "execution_count": null,
   "id": "0599b10e",
   "metadata": {},
   "outputs": [],
   "source": [
    "train_data = pd.concat([X_train, y_train], axis=1)\n",
    "majority = train_data[train_data.Survived == 0]\n",
    "minority = train_data[train_data.Survived == 1]\n",
    "minority_upsampled = resample(minority, replace=True, n_samples=len(majority), random_state=42)\n",
    "upsampled = pd.concat([majority, minority_upsampled])\n",
    "X_train_balanced = upsampled.drop(\"Survived\", axis=1)\n",
    "y_train_balanced = upsampled[\"Survived\"]\n",
    "print(\"Balanced training label counts:\")\n",
    "print(y_train_balanced.value_counts())"
   ]
  },
  {
   "cell_type": "markdown",
   "id": "b7720319",
   "metadata": {},
   "source": [
    "## 6. Model Training and Validation"
   ]
  },
  {
   "cell_type": "code",
   "execution_count": null,
   "id": "a6ae8f3a",
   "metadata": {},
   "outputs": [],
   "source": [
    "knn = KNeighborsClassifier(n_neighbors=5)\n",
    "knn.fit(X_train_balanced, y_train_balanced)\n",
    "train_acc = knn.score(X_train_balanced, y_train_balanced)\n",
    "test_acc = knn.score(X_test, y_test)\n",
    "print(\"Train accuracy:\", train_acc)\n",
    "print(\"Test accuracy:\", test_acc)"
   ]
  },
  {
   "cell_type": "code",
   "execution_count": null,
   "id": "00554b7c",
   "metadata": {},
   "outputs": [],
   "source": [
    "k_vals = range(1, 101)\n",
    "train_scores = []\n",
    "test_scores = []\n",
    "for k in k_vals:\n",
    "    knn = KNeighborsClassifier(n_neighbors=k)\n",
    "    knn.fit(X_train_balanced, y_train_balanced)\n",
    "    train_scores.append(knn.score(X_train_balanced, y_train_balanced))\n",
    "    test_scores.append(knn.score(X_test, y_test))\n",
    "\n",
    "plt.figure(figsize=(10, 5))\n",
    "plt.plot(k_vals, train_scores, label='Train Accuracy')\n",
    "plt.plot(k_vals, test_scores, label='Test Accuracy')\n",
    "plt.xlabel(\"k\")\n",
    "plt.ylabel(\"Accuracy\")\n",
    "plt.title(\"Accuracy vs k in KNN\")\n",
    "plt.legend()\n",
    "plt.grid(True)\n",
    "plt.show()"
   ]
  },
  {
   "cell_type": "markdown",
   "id": "f23577e8",
   "metadata": {},
   "source": [
    "## 7. Analytical Questions"
   ]
  },
  {
   "cell_type": "markdown",
   "id": "094e836d",
   "metadata": {},
   "source": [
    "**1. Which feature is most important?**\n",
    "\n",
    "Based on data distribution and class separability, features like `Sex`, `Pclass`, and `Age` tend to be most informative. Gender especially shows strong correlation with survival rate.\n",
    "\n",
    "**2. Alternative missing value strategies for 'Age':**\n",
    "\n",
    "- Fill with median or mean (less extreme than 0)\n",
    "- Use age binning (child, adult, senior)\n",
    "- Predict missing age using regression from other features\n",
    "\n",
    "These approaches preserve age distribution better and help the model generalize."
   ]
  }
 ],
 "metadata": {},
 "nbformat": 4,
 "nbformat_minor": 5
}